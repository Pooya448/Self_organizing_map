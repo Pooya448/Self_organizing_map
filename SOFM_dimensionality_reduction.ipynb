{
 "cells": [
  {
   "cell_type": "markdown",
   "metadata": {},
   "source": [
    "# Section 2 - SOFM"
   ]
  },
  {
   "cell_type": "markdown",
   "metadata": {},
   "source": [
    "## 1. Unsupervised Learning"
   ]
  },
  {
   "cell_type": "markdown",
   "metadata": {},
   "source": [
    "    - Unsupervised Learning, learns the hidden and intrinsic patterns inside a data set, Due to this nature, Unsupervised Learning is usually used for Clustering uses."
   ]
  },
  {
   "cell_type": "markdown",
   "metadata": {},
   "source": [
    "## 2. Equations"
   ]
  },
  {
   "cell_type": "markdown",
   "metadata": {},
   "source": [
    "### 1st equation\n",
    "    - This equation is the gaussian kernel used for calculating distances between two nodes, and is used to determine neighborhood size in self organization proess.\n",
    "    \n",
    "### 2nd equation\n",
    "    - delta(w) is the value that should be should be added to the existing weights of the network and is computed during every itertion. \n",
    "    - eta(t) is value of learning rate computed over timestamp (epoch) t (we use learning rate decay with exponential function). \n",
    "    - T is the value of topological neighborhood computed for distance between vector and winning node and its neighbors (within the radius), this value is calculated using equation 1."
   ]
  },
  {
   "cell_type": "markdown",
   "metadata": {},
   "source": [
    "## 3. Dimensionality Reduction"
   ]
  },
  {
   "cell_type": "code",
   "execution_count": null,
   "metadata": {},
   "outputs": [],
   "source": [
    "import numpy as np\n",
    "import sys, math, time\n",
    "import matplotlib.pyplot as plt\n",
    "from PIL import Image"
   ]
  },
  {
   "cell_type": "code",
   "execution_count": null,
   "metadata": {},
   "outputs": [],
   "source": [
    "# Generating and normalizing data\n",
    "\n",
    "data = (np.random.randint(0, 255, (1600,3)))\n",
    "data = data / data.max()"
   ]
  },
  {
   "cell_type": "code",
   "execution_count": null,
   "metadata": {},
   "outputs": [],
   "source": [
    "# Plotting the initial data\n",
    "\n",
    "plt.axis('off')\n",
    "plt.title(\"Initial State\")\n",
    "plt.imshow(np.reshape(data, (40,40,3)))\n",
    "plt.show()"
   ]
  },
  {
   "cell_type": "code",
   "execution_count": null,
   "metadata": {},
   "outputs": [],
   "source": [
    "# Definning the SOM class\n",
    "\n",
    "class SOM:\n",
    "    def __init__(self, alpha, epochs):\n",
    "        \n",
    "        # Initializing initial values\n",
    "        self.map = np.random.uniform(0, 1, size=(40, 40, 3))\n",
    "        self.initial_alpha = alpha\n",
    "        self.initial_radius = 20\n",
    "        self.epochs = epochs + 1\n",
    "        self.landa = 0\n",
    "        self.update_landa()\n",
    "        self.radius = 0\n",
    "        self.update_radius()\n",
    "        self.alpha = 0\n",
    "        self.update_alpha()\n",
    "        self.influence = 0\n",
    "        \n",
    "        self.states = {}\n",
    "    \n",
    "    # Updating landa based on epoch\n",
    "    def update_landa(self):\n",
    "        self.landa = self.epochs / np.log(self.initial_radius)\n",
    "        return\n",
    "    \n",
    "    # Updating radius based on epoch\n",
    "    def update_radius(self, epoch = 0):\n",
    "        self.radius = self.initial_radius * np.exp(-epoch / self.landa)\n",
    "        return\n",
    "    \n",
    "    # Updating alpha based on epoch -> learning rate decay\n",
    "    def update_alpha(self, epoch = 0):\n",
    "        self.alpha = self.initial_alpha * np.exp(-epoch / self.landa)\n",
    "        return\n",
    "    \n",
    "    def cal_distance(self, X, Y):\n",
    "        return np.sum(np.square(X - Y), axis = -1, keepdims = True)\n",
    "    \n",
    "    def cal_node_distance(self, x1, x2, y1, y2):\n",
    "        return ((x1 - x2) ** 2 + (y1 - y2) ** 2) ** 0.5\n",
    "    \n",
    "    # Calculating neighberhood influence using Gaussians\n",
    "    def cal_neighborhood_influence(self, distance):\n",
    "        return np.exp(-distance / (2 * (self.radius ** 2)))\n",
    "    \n",
    "    def best_matching_unit(self, X):\n",
    "        \n",
    "        # Calculating distances of input vector X from all of SOM\n",
    "        dist_matrix = self.cal_distance(X, self.map)\n",
    "        dist_matrix = dist_matrix.reshape((dist_matrix.shape[0], dist_matrix.shape[1]))\n",
    "        \n",
    "        # Getting indices related to the minimum distance in the dist_matrix\n",
    "        indices = np.unravel_index(np.argmin(dist_matrix, axis=None), dist_matrix.shape)\n",
    "        return indices\n",
    "        \n",
    "    # Updating weights for each SOM node if the node is within the neighborhood (radius)\n",
    "    def update_map_weights(self, x_index, y_index, vector):\n",
    "        for i in range(self.map.shape[0]):\n",
    "            for j in range(self.map.shape[1]):\n",
    "                node_dist = self.cal_node_distance(i, x_index, j, y_index)\n",
    "                if node_dist < self.radius:\n",
    "                    influence = self.cal_neighborhood_influence(node_dist)\n",
    "                    self.map[i][j] += influence * self.alpha * (vector - self.map[i][j])\n",
    "        return\n",
    "    \n",
    "    \n",
    "    # Fitting the data to the model\n",
    "    def train(self, data):\n",
    "        \n",
    "        for epoch in range(self.epochs):\n",
    "            \n",
    "            # update alpha and neighborhood radius at the start of iteration\n",
    "            self.update_radius(epoch)\n",
    "            self.update_alpha(epoch)\n",
    "            \n",
    "            # Select a input vector\n",
    "            selected_vector = data[epoch % 1600]\n",
    "            \n",
    "            # Find the winning node for the selected input vector\n",
    "            min_x, min_y = self.best_matching_unit(selected_vector)\n",
    "            \n",
    "            # Updating the weights of SOM\n",
    "            self.update_map_weights(min_x, min_y, selected_vector)\n",
    "            \n",
    "            if epoch % 100 == 0:\n",
    "                print(\"Epoch no. : \", epoch)\n",
    "            if epoch % 400 == 0:\n",
    "                self.states[epoch] = self.map.copy()\n",
    "            if epoch == self.epochs - 1:\n",
    "                self.states[epoch] = self.map.copy()\n",
    "        return"
   ]
  },
  {
   "cell_type": "code",
   "execution_count": null,
   "metadata": {},
   "outputs": [],
   "source": [
    "# Declaration of SOM class and calling the train method for fitting the data\n",
    "\n",
    "som = SOM(0.04, 10000\n",
    "         )\n",
    "som.train(data)"
   ]
  },
  {
   "cell_type": "code",
   "execution_count": null,
   "metadata": {},
   "outputs": [],
   "source": [
    "# Extract maps from SOM states dictionary for every 400 iterations and then plotting each\n",
    "\n",
    "for epoch, net in som.states.items():\n",
    "    plt.figure(figsize=(8,8))\n",
    "    plt.axis('off')\n",
    "    plt.title(\"Epoch no. \" + str(epoch))\n",
    "    plt.imshow((net * 255).astype(np.uint8))\n",
    "plt.show()"
   ]
  },
  {
   "cell_type": "code",
   "execution_count": null,
   "metadata": {},
   "outputs": [],
   "source": []
  },
  {
   "cell_type": "code",
   "execution_count": null,
   "metadata": {},
   "outputs": [],
   "source": []
  },
  {
   "cell_type": "code",
   "execution_count": null,
   "metadata": {},
   "outputs": [],
   "source": []
  },
  {
   "cell_type": "code",
   "execution_count": null,
   "metadata": {},
   "outputs": [],
   "source": []
  }
 ],
 "metadata": {
  "kernelspec": {
   "display_name": "Python 3",
   "language": "python",
   "name": "python3"
  },
  "language_info": {
   "codemirror_mode": {
    "name": "ipython",
    "version": 3
   },
   "file_extension": ".py",
   "mimetype": "text/x-python",
   "name": "python",
   "nbconvert_exporter": "python",
   "pygments_lexer": "ipython3",
   "version": "3.7.6"
  }
 },
 "nbformat": 4,
 "nbformat_minor": 4
}
